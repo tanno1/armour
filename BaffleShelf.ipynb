{
 "cells": [
  {
   "cell_type": "code",
   "execution_count": 9,
   "metadata": {},
   "outputs": [
    {
     "name": "stdout",
     "output_type": "stream",
     "text": [
      "<_io.TextIOWrapper name='./SDS-P830657_Extracted_Frequency_Response.txt' mode='r' encoding='cp1252'>\n"
     ]
    }
   ],
   "source": [
    "# tanner, noah\n",
    "# 12/17/24\n",
    "# baffle step compensation calculator\n",
    "\n",
    "# description: a numerical solver algorithim to compare woofer frequency response to a target response within a frequency ranmge, and determine passive component values to create the flattest response\n",
    "\n",
    "import numpy as np\n",
    "import matplotlib.pyplot as plt\n",
    "\n",
    "# define f vs db file location\n",
    "file_path = './SDS-P830657_Extracted_Frequency_Response.txt'\n",
    "\n",
    "data = open(file_path, 'r')\n",
    "print(data)\n",
    "\n",
    "# LF_gain = -R16/R17\n",
    "\n",
    "# HF_gain = -parallel(R16, R15)/R17\n"
   ]
  }
 ],
 "metadata": {
  "kernelspec": {
   "display_name": ".venv",
   "language": "python",
   "name": "python3"
  },
  "language_info": {
   "codemirror_mode": {
    "name": "ipython",
    "version": 3
   },
   "file_extension": ".py",
   "mimetype": "text/x-python",
   "name": "python",
   "nbconvert_exporter": "python",
   "pygments_lexer": "ipython3",
   "version": "3.12.1"
  }
 },
 "nbformat": 4,
 "nbformat_minor": 2
}
